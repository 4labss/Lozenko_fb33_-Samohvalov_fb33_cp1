{
 "cells": [
  {
   "cell_type": "code",
   "execution_count": 1,
   "id": "be13afee",
   "metadata": {},
   "outputs": [],
   "source": [
    "import re\n",
    "import matplotlib.pyplot as plt"
   ]
  },
  {
   "cell_type": "code",
   "execution_count": 2,
   "id": "ac3c0c11",
   "metadata": {},
   "outputs": [
    {
     "name": "stdout",
     "output_type": "stream",
     "text": [
      "pt: 0.052780\n",
      "пл: 0.041991\n",
      "ями: 0.037594\n",
      "млвц: 0.034981\n",
      "артфк: 0.035323\n",
      "лвафолрипждф: 0.033577\n",
      "лдожйцкождзхлфв: 0.033204\n",
      "иобямжощцплмдзаркд: 0.032108\n"
     ]
    }
   ],
   "source": [
    "def filter(text):\n",
    "    text = text.lower()\n",
    "    text = text.replace('ё', 'е')\n",
    "    text = re.sub(r'[^а-я ]', ' ', text)\n",
    "    text = re.sub(r' ', '', text)\n",
    "    text = text.strip()\n",
    "    return text\n",
    "\n",
    "\n",
    "def encrypt(plain, k):\n",
    "    ct = []\n",
    "    r = len(k)\n",
    "    for i, ch in enumerate(plain):\n",
    "        x = bt.index(ch)\n",
    "        y = bt.index(k[i % r])\n",
    "        ct.append(bt[(x + y) % 32])\n",
    "    return ''.join(ct)\n",
    "\n",
    "\n",
    "def IC(text):\n",
    "    n = len(text)\n",
    "    freqs = {}\n",
    "    for ch in text:\n",
    "        freqs[ch] = freqs.get(ch, 0) + 1\n",
    "    numer = sum(v * (v - 1) for v in freqs.values())\n",
    "    denum = n * (n - 1)\n",
    "    return numer / denum\n",
    "\n",
    "\n",
    "bt = \"абвгдежзийклмнопрстуфхцчшщыьъэюя\"\n",
    "keys = [\"пл\", \"ями\", \"млвц\", \"артфк\",\"лвафолрипждф\", \"лдожйцкождзхлфв\", \"иобямжощцплмдзаркд\"]\n",
    "with open('text.txt', 'r', encoding='utf-8') as f:\n",
    "    text = f.read()\n",
    "plain = filter(text)\n",
    "\n",
    "\n",
    "enc = {}\n",
    "for key in keys:\n",
    "    ct = encrypt(plain, key)\n",
    "    r = len(key)\n",
    "    filename = f'encrypted_{r}.txt'\n",
    "    with open(filename, 'w', encoding='utf-8') as f:\n",
    "        f.write(ct)\n",
    "    enc[key] = ct\n",
    "\n",
    "\n",
    "result = {}\n",
    "result['pt'] = IC(plain)\n",
    "for key, ct in enc.items():\n",
    "    result[key] = IC(ct)\n",
    "\n",
    "for k, v in result.items():\n",
    "    print(f'{k}: {v:.6f}')\n",
    "\n"
   ]
  }
 ],
 "metadata": {
  "kernelspec": {
   "display_name": "Python 3",
   "language": "python",
   "name": "python3"
  },
  "language_info": {
   "codemirror_mode": {
    "name": "ipython",
    "version": 3
   },
   "file_extension": ".py",
   "mimetype": "text/x-python",
   "name": "python",
   "nbconvert_exporter": "python",
   "pygments_lexer": "ipython3",
   "version": "3.13.1"
  }
 },
 "nbformat": 4,
 "nbformat_minor": 5
}
