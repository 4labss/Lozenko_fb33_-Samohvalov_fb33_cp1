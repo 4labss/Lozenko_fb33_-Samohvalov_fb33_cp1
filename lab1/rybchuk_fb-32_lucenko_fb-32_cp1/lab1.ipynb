{
 "cells": [
  {
   "cell_type": "markdown",
   "id": "765bacf5",
   "metadata": {},
   "source": [
    "Необхідні для роботи імпорти"
   ]
  },
  {
   "cell_type": "code",
   "execution_count": 1,
   "id": "da5b59d1",
   "metadata": {},
   "outputs": [],
   "source": [
    "import re, chardet, math\n",
    "from collections import Counter\n",
    "import pandas as pd"
   ]
  },
  {
   "cell_type": "markdown",
   "id": "86696485",
   "metadata": {},
   "source": [
    "Змінні, які необхідні для роботи коду"
   ]
  },
  {
   "cell_type": "code",
   "execution_count": 2,
   "id": "030a65a9",
   "metadata": {},
   "outputs": [],
   "source": [
    "file_path = r\"C:\\Users\\blood\\OneDrive\\Рабочий стол\\koran.txt\""
   ]
  },
  {
   "cell_type": "markdown",
   "id": "2b43f67c",
   "metadata": {},
   "source": [
    "Відкриваємо та форматуємо текст, щоб нам було зручно з ним працювати"
   ]
  },
  {
   "cell_type": "code",
   "execution_count": 3,
   "id": "2bdbe7e6",
   "metadata": {},
   "outputs": [
    {
     "name": "stdout",
     "output_type": "stream",
     "text": [
      "Кодування: utf-8\n",
      "Довжина з пробілами: 1665627, без пробілів: 1391512\n"
     ]
    }
   ],
   "source": [
    "with open(file_path, \"rb\") as f:\n",
    "    raw_data = f.read()\n",
    "koduvannya = chardet.detect(raw_data)[\"encoding\"]\n",
    "print(f\"Кодування: {koduvannya}\")\n",
    "\n",
    "def obrobka_text(filename, remove_spaces=False):\n",
    "    with open(filename, \"r\", encoding=koduvannya, errors=\"replace\") as file:\n",
    "        text = file.read().lower()\n",
    "    text = text.replace(\"ё\", \"е\").replace(\"ъ\", \"ь\")\n",
    "    text = re.sub(r'[^а-я ]', ' ', text)\n",
    "    text = re.sub(r'\\s+', ' ', text).strip()\n",
    "    if remove_spaces:\n",
    "        text = text.replace(\" \", \"\")\n",
    "    return text\n",
    "\n",
    "koranchik_z_probilamy = obrobka_text(file_path, remove_spaces=False)\n",
    "koranchik_bez_probiliv = obrobka_text(file_path, remove_spaces=True)\n",
    "print(f\"Довжина з пробілами: {len(koranchik_z_probilamy)}, без пробілів: {len(koranchik_bez_probiliv)}\")"
   ]
  },
  {
   "cell_type": "code",
   "execution_count": 4,
   "id": "c2629099",
   "metadata": {},
   "outputs": [],
   "source": [
    "def chastoty_bukv(tekst):\n",
    "    N = len(tekst)\n",
    "    counts = Counter(tekst)\n",
    "    freq = {sym: count / N for sym, count in counts.items()}\n",
    "    return freq, counts, N\n",
    "\n",
    "def chastoty_bigram(tekst):\n",
    "    bigrams = [tekst[i:i+2] for i in range(len(tekst) - 1)]\n",
    "    N = len(bigrams)\n",
    "    counts = Counter(bigrams)\n",
    "    freq = {bg: count / N for bg, count in counts.items()}\n",
    "    return freq, counts, N\n",
    "\n",
    "def entropiya(freq_dict, n=1):\n",
    "    \"\"\"\n",
    "    прийматиме freq_dict - словник {символ: ймовірність}\n",
    "    n - довжина грам (1 для букв, 2 для біграм)\n",
    "    \"\"\"\n",
    "    return -sum(p * math.log2(p) for p in freq_dict.values() if p > 0) / n"
   ]
  },
  {
   "cell_type": "markdown",
   "id": "99365956",
   "metadata": {},
   "source": [
    "Обчислення H1 та H2 з пробілами"
   ]
  },
  {
   "cell_type": "code",
   "execution_count": null,
   "id": "9e585665",
   "metadata": {},
   "outputs": [
    {
     "name": "stdout",
     "output_type": "stream",
     "text": [
      "H1: 4.346580\n",
      "H2: 3.898952\n"
     ]
    }
   ],
   "source": [
    "freq_letters, counts_letters, N_letters = chastoty_bukv(koranchik_z_probilamy)\n",
    "freq_bigrams, counts_bigrams, N_bigrams = chastoty_bigram(koranchik_z_probilamy)\n",
    "\n",
    "H1_with_spaces = entropiya(freq_letters, n=1)\n",
    "H2_with_spaces = entropiya(freq_bigrams, n=2)\n",
    "\n",
    "print(f\"H1 (з пробілами): {H1_with_spaces:.6f}\")\n",
    "print(f\"H2(з пробілами): {H2_with_spaces:.6f}\")"
   ]
  },
  {
   "cell_type": "markdown",
   "id": "01ab4763",
   "metadata": {},
   "source": [
    "Обчислення H1 та H2 без пробілів"
   ]
  },
  {
   "cell_type": "code",
   "execution_count": null,
   "id": "c27445c5",
   "metadata": {},
   "outputs": [
    {
     "ename": "NameError",
     "evalue": "name 'tekst_bez_probiliv' is not defined",
     "output_type": "error",
     "traceback": [
      "\u001b[31m---------------------------------------------------------------------------\u001b[39m",
      "\u001b[31mNameError\u001b[39m                                 Traceback (most recent call last)",
      "\u001b[36mCell\u001b[39m\u001b[36m \u001b[39m\u001b[32mIn[8]\u001b[39m\u001b[32m, line 1\u001b[39m\n\u001b[32m----> \u001b[39m\u001b[32m1\u001b[39m freq_letters_ns, counts_letters_ns, N_letters_ns = chastoty_bukv(\u001b[43mtekst_bez_probiliv\u001b[49m)\n\u001b[32m      2\u001b[39m freq_bigrams_ns, counts_bigrams_ns, N_bigrams_ns = chastoty_bigram(tekst_bez_probiliv)\n\u001b[32m      4\u001b[39m H1_no_spaces = entropiya(freq_letters_ns, n=\u001b[32m1\u001b[39m)\n",
      "\u001b[31mNameError\u001b[39m: name 'tekst_bez_probiliv' is not defined"
     ]
    }
   ],
   "source": [
    "freq_letters_ns, counts_letters_ns, N_letters_ns = chastoty_bukv(tekst_bez_probiliv)\n",
    "freq_bigrams_ns, counts_bigrams_ns, N_bigrams_ns = chastoty_bigram(tekst_bez_probiliv)\n",
    "\n",
    "H1_no_spaces = entropiya(freq_letters_ns, n=1)\n",
    "H2_no_spaces = entropiya(freq_bigrams_ns, n=2)\n",
    "\n",
    "print(f\"H1 (без пробілів): {H1_with_spaces:.6f}\")\n",
    "print(f\"H2 (без пробілів): {H2_with_spaces:.6f}\")"
   ]
  },
  {
   "cell_type": "markdown",
   "id": "2f0d7db0",
   "metadata": {},
   "source": [
    "Збереження в ексель"
   ]
  },
  {
   "cell_type": "code",
   "execution_count": null,
   "id": "05853e54",
   "metadata": {},
   "outputs": [
    {
     "name": "stdout",
     "output_type": "stream",
     "text": [
      "Результати збережено у 'chastoty_bukv.xlsx' та 'chastoty_bigram.xlsx'\n"
     ]
    }
   ],
   "source": [
    "\n",
    "df_letters_spaces = pd.DataFrame(\n",
    "    [(sym, counts_letters[sym], freq_letters[sym]) for sym in freq_letters],\n",
    "    columns=[\"Символ\", \"Кількість\", \"Частота\"]\n",
    ").sort_values(by=\"Частота\", ascending=False)\n",
    "\n",
    "df_letters_no_spaces = pd.DataFrame(\n",
    "    [(sym, counts_letters_ns[sym], freq_letters_ns[sym]) for sym in freq_letters_ns],\n",
    "    columns=[\"Символ\", \"Кількість\", \"Частота\"]\n",
    ").sort_values(by=\"Частота\", ascending=False)\n",
    "\n",
    "df_bigrams_spaces = pd.DataFrame(\n",
    "    [(bg, counts_bigrams[bg], freq_bigrams[bg]) for bg in freq_bigrams],\n",
    "    columns=[\"Біграма\", \"Кількість\", \"Частота\"]\n",
    ").sort_values(by=\"Частота\", ascending=False)\n",
    "\n",
    "df_bigrams_no_spaces = pd.DataFrame(\n",
    "    [(bg, counts_bigrams_ns[bg], freq_bigrams_ns[bg]) for bg in freq_bigrams_ns],\n",
    "    columns=[\"Біграма\", \"Кількість\", \"Частота\"]\n",
    ").sort_values(by=\"Частота\", ascending=False)\n",
    "\n",
    "df_letters_spaces.to_excel(\"letters_with_spaces.xlsx\", index=False)\n",
    "df_letters_no_spaces.to_excel(\"letters_no_spaces.xlsx\", index=False)\n",
    "df_bigrams_spaces.to_excel(\"bigrams_with_spaces.xlsx\", index=False)\n",
    "df_bigrams_no_spaces.to_excel(\"bigrams_no_spaces.xlsx\", index=False)\n",
    "\n",
    "print(\"Усі таблиці збережено частот та біграм збережено\")\n"
   ]
  }
 ],
 "metadata": {
  "kernelspec": {
   "display_name": "lab2",
   "language": "python",
   "name": "python3"
  },
  "language_info": {
   "codemirror_mode": {
    "name": "ipython",
    "version": 3
   },
   "file_extension": ".py",
   "mimetype": "text/x-python",
   "name": "python",
   "nbconvert_exporter": "python",
   "pygments_lexer": "ipython3",
   "version": "3.12.5"
  }
 },
 "nbformat": 4,
 "nbformat_minor": 5
}
