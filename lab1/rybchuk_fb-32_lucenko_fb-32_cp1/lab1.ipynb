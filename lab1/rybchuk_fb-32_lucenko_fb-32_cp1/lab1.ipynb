{
 "cells": [
  {
   "cell_type": "markdown",
   "id": "765bacf5",
   "metadata": {},
   "source": [
    "Необхідні для роботи імпорти"
   ]
  },
  {
   "cell_type": "code",
   "execution_count": null,
   "id": "da5b59d1",
   "metadata": {},
   "outputs": [],
   "source": [
    "import re, chardet, math\n",
    "from collections import Counter\n",
    "import pandas as pd"
   ]
  },
  {
   "cell_type": "markdown",
   "id": "86696485",
   "metadata": {},
   "source": [
    "Змінні, які необхідні для роботи коду"
   ]
  },
  {
   "cell_type": "code",
   "execution_count": 2,
   "id": "030a65a9",
   "metadata": {},
   "outputs": [],
   "source": [
    "file_path = r\"C:\\Users\\blood\\OneDrive\\Рабочий стол\\koran.txt\""
   ]
  },
  {
   "cell_type": "markdown",
   "id": "2b43f67c",
   "metadata": {},
   "source": [
    "Відкриваємо та форматуємо текст, щоб нам було зручно з ним працювати"
   ]
  },
  {
   "cell_type": "code",
   "execution_count": null,
   "id": "2bdbe7e6",
   "metadata": {},
   "outputs": [
    {
     "name": "stdout",
     "output_type": "stream",
     "text": [
      "Кодування: utf-8\n"
     ]
    }
   ],
   "source": [
    "with open(file_path, \"rb\") as f:\n",
    "    raw_data = f.read()\n",
    "koduvannya = chardet.detect(raw_data)[\"encoding\"]\n",
    "print(f\"Кодування: {koduvannya}\")\n",
    "\n",
    "def obrobka_text(filename, remove_spaces=False):\n",
    "    with open(filename, \"r\", encoding=koduvannya, errors=\"replace\") as file:\n",
    "        text = file.read().lower()\n",
    "    text = text.replace(\"ё\", \"е\").replace(\"ъ\", \"ь\")\n",
    "    text = re.sub(r'[^а-я ]', ' ', text)\n",
    "    text = re.sub(r'\\s+', ' ', text).strip()\n",
    "    if remove_spaces:\n",
    "        text = text.replace(\" \", \"\")\n",
    "    return text\n",
    "\n",
    "koran_chistenkiy = obrobka_text(file_path)"
   ]
  },
  {
   "cell_type": "code",
   "execution_count": null,
   "id": "c2629099",
   "metadata": {},
   "outputs": [],
   "source": [
    "def chastoty_bukv(tekst):\n",
    "    N = len(tekst)\n",
    "    counts = Counter(tekst)\n",
    "    freq = {sym: count / N for sym, count in counts.items()}\n",
    "    return freq, counts, N\n",
    "\n",
    "def chastoty_bigram(tekst):\n",
    "    bigrams = [tekst[i:i+2] for i in range(len(tekst) - 1)]\n",
    "    N = len(bigrams)\n",
    "    counts = Counter(bigrams)\n",
    "    freq = {bg: count / N for bg, count in counts.items()}\n",
    "    return freq, counts, N\n",
    "\n",
    "def entropiya(freq_dict, n=1):\n",
    "    \"\"\"\n",
    "    прийматиме freq_dict - словник {символ: ймовірність}\n",
    "    n - довжина грам (1 для букв, 2 для біграм)\n",
    "    \"\"\"\n",
    "    return -sum(p * math.log2(p) for p in freq_dict.values() if p > 0) / n"
   ]
  },
  {
   "cell_type": "code",
   "execution_count": null,
   "id": "9e585665",
   "metadata": {},
   "outputs": [],
   "source": []
  }
 ],
 "metadata": {
  "kernelspec": {
   "display_name": "lab2",
   "language": "python",
   "name": "python3"
  },
  "language_info": {
   "codemirror_mode": {
    "name": "ipython",
    "version": 3
   },
   "file_extension": ".py",
   "mimetype": "text/x-python",
   "name": "python",
   "nbconvert_exporter": "python",
   "pygments_lexer": "ipython3",
   "version": "3.12.5"
  }
 },
 "nbformat": 4,
 "nbformat_minor": 5
}
