{
 "cells": [
  {
   "cell_type": "markdown",
   "id": "765bacf5",
   "metadata": {},
   "source": [
    "Необхідні для роботи імпорти"
   ]
  },
  {
   "cell_type": "code",
   "execution_count": 2,
   "id": "da5b59d1",
   "metadata": {},
   "outputs": [],
   "source": [
    "import re, chardet, math\n",
    "from collections import Counter\n",
    "import pandas as pd"
   ]
  },
  {
   "cell_type": "markdown",
   "id": "86696485",
   "metadata": {},
   "source": [
    "Змінні, які необхідні для роботи коду"
   ]
  },
  {
   "cell_type": "code",
   "execution_count": 3,
   "id": "030a65a9",
   "metadata": {},
   "outputs": [],
   "source": [
    "file_path = r\"C:\\Users\\blood\\OneDrive\\Рабочий стол\\koran.txt\""
   ]
  },
  {
   "cell_type": "markdown",
   "id": "2b43f67c",
   "metadata": {},
   "source": [
    "Відкриваємо та форматуємо текст, щоб нам було зручно з ним працювати"
   ]
  },
  {
   "cell_type": "code",
   "execution_count": 4,
   "id": "2bdbe7e6",
   "metadata": {},
   "outputs": [
    {
     "name": "stdout",
     "output_type": "stream",
     "text": [
      "Кодування: utf-8\n",
      "Довжина з пробілами: 1665627, без пробілів: 1391512\n"
     ]
    }
   ],
   "source": [
    "with open(file_path, \"rb\") as f:\n",
    "    raw_data = f.read()\n",
    "koduvannya = chardet.detect(raw_data)[\"encoding\"]\n",
    "print(f\"Кодування: {koduvannya}\")\n",
    "\n",
    "def obrobka_text(filename, remove_spaces=False):\n",
    "    with open(filename, \"r\", encoding=koduvannya, errors=\"replace\") as file:\n",
    "        text = file.read().lower()\n",
    "    text = text.replace(\"ё\", \"е\").replace(\"ъ\", \"ь\")\n",
    "    text = re.sub(r'[^а-я ]', ' ', text)\n",
    "    text = re.sub(r'\\s+', ' ', text).strip()\n",
    "    if remove_spaces:\n",
    "        text = text.replace(\" \", \"\")\n",
    "    return text\n",
    "\n",
    "koranchik_z_probilamy = obrobka_text(file_path, remove_spaces=False)\n",
    "koranchik_bez_probiliv = obrobka_text(file_path, remove_spaces=True)\n",
    "print(f\"Довжина з пробілами: {len(koranchik_z_probilamy)}, без пробілів: {len(koranchik_bez_probiliv)}\")"
   ]
  },
  {
   "cell_type": "code",
   "execution_count": null,
   "id": "c2629099",
   "metadata": {},
   "outputs": [],
   "source": [
    "def chastoty_bukv(tekst):\n",
    "    N = len(tekst)\n",
    "    counts = Counter(tekst)\n",
    "    freq = {sym: count / N for sym, count in counts.items()}\n",
    "    return freq, counts, N\n",
    "\n",
    "def chastoty_bigram(tekst):\n",
    "    bigrams = [tekst[i:i+2] for i in range(len(tekst) - 1)]\n",
    "    N = len(bigrams)\n",
    "    counts = Counter(bigrams)\n",
    "    freq = {bg: count / N for bg, count in counts.items()}\n",
    "    return freq, counts, N\n",
    "\n",
    "def entropiya(freq_dict, n=1):\n",
    "    return -sum(p * math.log2(p) for p in freq_dict.values() if p > 0) / n"
   ]
  },
  {
   "cell_type": "markdown",
   "id": "99365956",
   "metadata": {},
   "source": [
    "Обчислення H1 та H2, R1 та R2 з пробілами"
   ]
  },
  {
   "cell_type": "code",
   "execution_count": null,
   "id": "9e585665",
   "metadata": {},
   "outputs": [
    {
     "name": "stdout",
     "output_type": "stream",
     "text": [
      "H1 (з пробілами): 4.346580\n",
      "H2 (з пробілами): 3.898952\n",
      "Надлишковість R1 (з пробілами): 0.130684 = 13.07%\n",
      "Надлишковість R2 (з пробілами): 0.220210 = 22.02%\n"
     ]
    }
   ],
   "source": [
    "freq_letters, counts_letters, N_letters = chastoty_bukv(koranchik_z_probilamy)\n",
    "freq_bigrams, counts_bigrams, N_bigrams = chastoty_bigram(koranchik_z_probilamy)\n",
    "\n",
    "H1_with_spaces = entropiya(freq_letters, n=1)\n",
    "H2_with_spaces = entropiya(freq_bigrams, n=2)\n",
    "\n",
    "print(f\"H1 (з пробілами): {H1_with_spaces:.6f}\")\n",
    "print(f\"H2 (з пробілами): {H2_with_spaces:.6f}\")\n",
    "\n",
    "\n",
    "m_with_spaces = len(freq_letters)\n",
    "H0_with_spaces = math.log2(m_with_spaces)\n",
    "\n",
    "print(f\"Максимальна ентропія H0 (без пробілів): {H0_with_spaces:.6f}\")\n",
    "\n",
    "R1_with_spaces = 1 - (H1_with_spaces / H0_with_spaces)\n",
    "R2_with_spaces = 1 - (H2_with_spaces / H0_with_spaces)\n",
    "\n",
    "print(f\"Надлишковість R1 (з пробілами): {R1_with_spaces:.6f} = {R1_with_spaces:.2%}\")\n",
    "print(f\"Надлишковість R2 (з пробілами): {R2_with_spaces:.6f} = {R2_with_spaces:.2%})\")"
   ]
  },
  {
   "cell_type": "markdown",
   "id": "01ab4763",
   "metadata": {},
   "source": [
    "Обчислення H1 та H2, R1 та R2 без пробілів"
   ]
  },
  {
   "cell_type": "code",
   "execution_count": null,
   "id": "c27445c5",
   "metadata": {},
   "outputs": [
    {
     "name": "stdout",
     "output_type": "stream",
     "text": [
      "H1 (без пробілів): 4.346580\n",
      "H2 (без пробілів): 3.898952\n",
      "Максимальна ентропія H0 (без пробілів): 4.954196\n",
      "Надлишковість R1 (без пробілів): 0.105688 = 10.57%\n",
      "Надлишковість R2 (без пробілів): 0.176250 = 17.62%\n"
     ]
    }
   ],
   "source": [
    "freq_letters_ns, counts_letters_ns, N_letters_ns = chastoty_bukv(koranchik_bez_probiliv)\n",
    "freq_bigrams_ns, counts_bigrams_ns, N_bigrams_ns = chastoty_bigram(koranchik_bez_probiliv)\n",
    "\n",
    "H1_no_spaces = entropiya(freq_letters_ns, n=1)\n",
    "H2_no_spaces = entropiya(freq_bigrams_ns, n=2)\n",
    "\n",
    "print(f\"H1 (без пробілів): {H1_with_spaces:.6f}\")\n",
    "print(f\"H2 (без пробілів): {H2_with_spaces:.6f}\")\n",
    "\n",
    "m_no_spaces = len(freq_letters_ns)\n",
    "H0_no_spaces = math.log2(m_no_spaces)\n",
    "\n",
    "print(f\"Максимальна ентропія H0 (без пробілів): {H0_no_spaces:.6f}\")\n",
    "\n",
    "R1_no_spaces = 1 - (H1_no_spaces / H0_no_spaces)\n",
    "R2_no_spaces = 1 - (H2_no_spaces / H0_no_spaces)\n",
    "\n",
    "print(f\"Надлишковість R1 (без пробілів): {R1_no_spaces:.6f} = {R1_no_spaces:.2%}\")\n",
    "print(f\"Надлишковість R2 (без пробілів): {R2_no_spaces:.6f} = {R2_no_spaces:.2%}\")"
   ]
  },
  {
   "cell_type": "markdown",
   "id": "2f0d7db0",
   "metadata": {},
   "source": [
    "Збереження в ексель"
   ]
  },
  {
   "cell_type": "code",
   "execution_count": 8,
   "id": "05853e54",
   "metadata": {},
   "outputs": [
    {
     "name": "stdout",
     "output_type": "stream",
     "text": [
      "Усі таблиці збережено частот та біграм збережено\n"
     ]
    }
   ],
   "source": [
    "\n",
    "df_letters_spaces = pd.DataFrame(\n",
    "    [(sym, counts_letters[sym], freq_letters[sym]) for sym in freq_letters],\n",
    "    columns=[\"Символ\", \"Кількість\", \"Частота\"]\n",
    ").sort_values(by=\"Частота\", ascending=False)\n",
    "\n",
    "df_letters_no_spaces = pd.DataFrame(\n",
    "    [(sym, counts_letters_ns[sym], freq_letters_ns[sym]) for sym in freq_letters_ns],\n",
    "    columns=[\"Символ\", \"Кількість\", \"Частота\"]\n",
    ").sort_values(by=\"Частота\", ascending=False)\n",
    "\n",
    "df_bigrams_spaces = pd.DataFrame(\n",
    "    [(bg, counts_bigrams[bg], freq_bigrams[bg]) for bg in freq_bigrams],\n",
    "    columns=[\"Біграма\", \"Кількість\", \"Частота\"]\n",
    ").sort_values(by=\"Частота\", ascending=False)\n",
    "\n",
    "df_bigrams_no_spaces = pd.DataFrame(\n",
    "    [(bg, counts_bigrams_ns[bg], freq_bigrams_ns[bg]) for bg in freq_bigrams_ns],\n",
    "    columns=[\"Біграма\", \"Кількість\", \"Частота\"]\n",
    ").sort_values(by=\"Частота\", ascending=False)\n",
    "\n",
    "df_letters_spaces.to_excel(\"letters_with_spaces.xlsx\", index=False)\n",
    "df_letters_no_spaces.to_excel(\"letters_no_spaces.xlsx\", index=False)\n",
    "df_bigrams_spaces.to_excel(\"bigrams_with_spaces.xlsx\", index=False)\n",
    "df_bigrams_no_spaces.to_excel(\"bigrams_no_spaces.xlsx\", index=False)\n",
    "\n",
    "print(\"Усі таблиці збережено частот та біграм збережено\")\n"
   ]
  },
  {
   "cell_type": "markdown",
   "id": "564fa2be",
   "metadata": {},
   "source": [
    "Матриці"
   ]
  },
  {
   "cell_type": "code",
   "execution_count": 9,
   "id": "4f1dc299",
   "metadata": {},
   "outputs": [
    {
     "name": "stdout",
     "output_type": "stream",
     "text": [
      "Матриці біграм збережено\n"
     ]
    }
   ],
   "source": [
    "def bigram_matrica(counts, N):\n",
    "    symbols = sorted(set(\"\".join(counts.keys())))\n",
    "    matrix = pd.DataFrame(0.0, index=symbols, columns=symbols)\n",
    "\n",
    "    for bg, cnt in counts.items():\n",
    "        if len(bg) == 2:\n",
    "            a, b = bg[0], bg[1]\n",
    "            matrix.at[a, b] = cnt / N\n",
    "    return matrix\n",
    "\n",
    "matrix_spaces = bigram_matrica(counts_bigrams, N_bigrams)\n",
    "matrix_no_spaces = bigram_matrica(counts_bigrams_ns, N_bigrams_ns)\n",
    "\n",
    "matrix_spaces.to_excel(\"bigram_matrica_with_spaces.xlsx\")\n",
    "matrix_no_spaces.to_excel(\"bigram_matrica_no_spaces.xlsx\")\n",
    "\n",
    "print(\"Матриці біграм збережено\")"
   ]
  },
  {
   "cell_type": "markdown",
   "id": "dce3fe64",
   "metadata": {},
   "source": []
  }
 ],
 "metadata": {
  "kernelspec": {
   "display_name": "lab2",
   "language": "python",
   "name": "python3"
  },
  "language_info": {
   "codemirror_mode": {
    "name": "ipython",
    "version": 3
   },
   "file_extension": ".py",
   "mimetype": "text/x-python",
   "name": "python",
   "nbconvert_exporter": "python",
   "pygments_lexer": "ipython3",
   "version": "3.12.5"
  }
 },
 "nbformat": 4,
 "nbformat_minor": 5
}
